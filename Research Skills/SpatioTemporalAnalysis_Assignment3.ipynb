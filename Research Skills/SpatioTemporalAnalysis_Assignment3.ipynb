{
 "cells": [
  {
   "cell_type": "markdown",
   "id": "414c2f0b-757b-4eef-a131-bc9210784291",
   "metadata": {
    "tags": []
   },
   "source": [
    "# Research Skills: Spatiotemporal Data Analyis\n",
    "## Take-home Assignment 3\n",
    "Sharon Ong, Department of Cognitive Science and Artificial Intelligence, \n",
    "Tilburg University\n",
    "Academic Year 2023-2024 \n",
    "\n",
    "Your First Name: Christophe\n",
    "\n",
    "Your Last Name: Friezas Gonçalves\n",
    "\n",
    "Your Student ID: 2059012"
   ]
  },
  {
   "cell_type": "code",
   "execution_count": null,
   "id": "bad8e6c9-41e7-4e84-84bf-0651b5915e1f",
   "metadata": {},
   "outputs": [],
   "source": [
    "import pandas as pd\n",
    "import numpy as np\n",
    "import matplotlib.pyplot as plt\n",
    "import warnings\n",
    "warnings.filterwarnings('ignore')\n",
    "\n",
    "from sktime.classification.kernel_based import RocketClassifier\n",
    "from sktime.classification.feature_based import Catch22Classifier\n",
    "from sklearn.ensemble import RandomForestClassifier, GradientBoostingClassifier\n",
    "\n",
    "from sklearn.model_selection import GridSearchCV\n",
    "from sktime.split import temporal_train_test_split\n",
    "\n",
    "from sklearn.model_selection import KFold\n",
    "from sktime.classification.distance_based import KNeighborsTimeSeriesClassifier\n",
    "\n",
    "from sklearn.metrics import accuracy_score"
   ]
  },
  {
   "cell_type": "markdown",
   "id": "f9bd6e83-f2cf-4762-bb4e-4145fee42349",
   "metadata": {},
   "source": [
    "# 3A First part: Data loading and baseline"
   ]
  },
  {
   "cell_type": "code",
   "execution_count": null,
   "id": "00ff41d7-5ca9-4142-bf29-a88416415f84",
   "metadata": {
    "tags": []
   },
   "outputs": [],
   "source": [
    "data = np.load(\"ts_challenge.npz\")\n",
    "print(data.files)\n",
    "X = data['arr_0']\n",
    "y = data['arr_1']\n",
    "\n",
    "X_train, X_test, y_train, y_test = train_test_split(X,y, test_size = 0.20, random_state = 42)\n",
    "\n",
    "clf = KNeighborsTimeSeriesClassifier(5)\n",
    "clf.fit(X_train, y_train)\n",
    "\n",
    "y_pred = clf.predict(X_test)\n",
    "print(accuracy_score(y_test, y_pred))"
   ]
  },
  {
   "cell_type": "markdown",
   "id": "30432b54-706f-4f15-9262-556921be78bf",
   "metadata": {},
   "source": [
    "# 2) GridSearchCV KNN"
   ]
  },
  {
   "cell_type": "code",
   "execution_count": null,
   "id": "514ed398-f20a-4cd4-af00-80832845381c",
   "metadata": {
    "tags": []
   },
   "outputs": [],
   "source": [
    "clf = KNeighborsTimeSeriesClassifier(distance=\"dtw\")\n",
    "param_grid = {'n_neighbors' : [1,3,7]}\n",
    "grid_search = GridSearchCV(clf, param_grid, cv = KFold(n_splits = 5))\n",
    "grid_search.fit(X_train, y_train)\n",
    "\n",
    "print(grid_search.best_estimator_)\n",
    "\n",
    "y_pred = grid_search.predict(X_test)\n",
    "print(accuracy_score(y_test, y_pred))"
   ]
  },
  {
   "cell_type": "markdown",
   "id": "ab7d8bbb-22ac-407a-8afc-5a77f087f396",
   "metadata": {},
   "source": [
    "# 3) Classification of own choice"
   ]
  },
  {
   "cell_type": "markdown",
   "id": "dd046d2c-f31b-4507-bc21-a7402c3012e2",
   "metadata": {
    "tags": []
   },
   "source": [
    "# All tested classifiers and parameter search (in markdown for easier running of notebook)\n",
    "\n",
    "clf = RocketClassifier(random_state=42)\n",
    "param_grid = {\"num_kernels\": [500,1000], \"rocket_transform\": [\"rocket\",\"minirocket\",\"multirocket\"],\n",
    "             \"max_dilations_per_kernel\":[8,16]}\n",
    "grid_search = GridSearchCV(clf, param_grid, cv = KFold(n_splits = 5))\n",
    "grid_search.fit(X_train, y_train)\n",
    "print(grid_search.best_estimator_)\n",
    "y_pred = grid_search.predict(X_test)\n",
    "print(accuracy_score(y_test, y_pred))\n",
    "\n",
    "for i in [7,9,200,1000]:\n",
    "    clf = Catch22Classifier(\n",
    "        estimator=RandomForestClassifier(n_estimators=i)\n",
    "    ) \n",
    "    clf.fit(X_train, y_train)\n",
    "    y_pred = clf.predict(X_test)\n",
    "    print(f\"Accuracy for {i} estimators :{accuracy_score(y_test, y_pred)}\")\n",
    "    \n",
    "for i in [0.1,0.01,0.001]:\n",
    "    for j in [1000,2000,5000,10000]:\n",
    "        clf = Catch22Classifier(\n",
    "            estimator= GradientBoostingClassifier(random_state=42, learning_rate=i,n_estimators=j,max_depth=1)\n",
    "        ) \n",
    "        clf.fit(X_train, y_train)\n",
    "        y_pred = clf.predict(X_test)\n",
    "        print(f\"Accuracy for {i} learning rate,{j} estimators and {n} depth :{accuracy_score(y_test, y_pred)}\")"
   ]
  },
  {
   "cell_type": "code",
   "execution_count": null,
   "id": "8b47cc25-9810-4780-a4bd-47c67d82c790",
   "metadata": {
    "tags": []
   },
   "outputs": [],
   "source": [
    "clf = Catch22Classifier(\n",
    "            estimator= GradientBoostingClassifier(random_state=42, learning_rate=0.1,n_estimators=900,max_depth=1)\n",
    ") \n",
    "clf.fit(X_train, y_train)\n",
    "y_pred = clf.predict(X_test)\n",
    "print(f\"Accuracy for {0.1} learning rate,{900} estimators and {1} depth :{accuracy_score(y_test, y_pred)}\")"
   ]
  },
  {
   "cell_type": "markdown",
   "id": "87c45997-d480-4279-96aa-198e8085669b",
   "metadata": {},
   "source": [
    "# Hold-out set"
   ]
  },
  {
   "cell_type": "code",
   "execution_count": null,
   "id": "ae7e5cf9-bbf0-4ca8-b145-1592bb8e146c",
   "metadata": {
    "tags": []
   },
   "outputs": [],
   "source": [
    "test_data = np.load('ts_test.npz')\n",
    "X_test = test_data['arr_0']\n",
    "\n",
    "y_pred = clf.predict(X_test)\n",
    "print(y_pred)\n",
    "np.savetxt(\"ypred.csv\", y_pred, delimiter=\",\")"
   ]
  }
 ],
 "metadata": {
  "kernelspec": {
   "display_name": "Python 3 (ipykernel)",
   "language": "python",
   "name": "python3"
  },
  "language_info": {
   "codemirror_mode": {
    "name": "ipython",
    "version": 3
   },
   "file_extension": ".py",
   "mimetype": "text/x-python",
   "name": "python",
   "nbconvert_exporter": "python",
   "pygments_lexer": "ipython3",
   "version": "3.9.18"
  }
 },
 "nbformat": 4,
 "nbformat_minor": 5
}
